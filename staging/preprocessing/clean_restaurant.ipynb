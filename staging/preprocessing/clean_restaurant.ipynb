{
 "cells": [
  {
   "cell_type": "code",
   "execution_count": 102,
   "metadata": {
    "collapsed": true
   },
   "outputs": [],
   "source": [
    "import pandas as pd\n",
    "import numpy as np\n",
    "import sys\n",
    "sys.path.insert(0, \"..\")\n"
   ]
  },
  {
   "cell_type": "code",
   "execution_count": 103,
   "metadata": {},
   "outputs": [],
   "source": [
    "df = pd.read_csv('chicago_restaurant.csv')\n",
    "df.head()\n",
    "\n",
    "df = df.rename(columns={'Inspection ID': 'inspection_id', 'DBA Name': 'dba_name', 'AKA Name': 'aka_name', 'License #': 'license_no', 'Facility Type': 'facility_type', 'Risk': 'risk', 'Address': 'address', 'City': 'city', 'State': 'state', 'Zip': 'zip', 'Inspection Date': 'inspection_date', 'Inspection Type': 'inspection_type', 'Results': 'results', 'Violations': 'violations', 'Latitude': 'latitude', 'Longitude': 'longitude', 'Location': 'location'})\n",
    "df.aka_name = np.where(df.aka_name.isnull(), df.dba_name, df.aka_name)\n",
    "df = df[np.isfinite(df['license_no'])]\n",
    "df['violations'] = df['violations'].fillna(value='unknown')\n",
    "df['facility_type'] = df['facility_type'].fillna(value='other')\n",
    "df['facility_type'] = df['facility_type'].str.lower()\n",
    "df['city'] = df['city'].str.lower()\n",
    "df['risk'] = df['risk'].fillna(value='Risk 1 (High)')\n",
    "df['city'] = df['city'].fillna(value='chicago')\n",
    "df['city'] = df['city'].replace('cchicago', 'chicago')\n",
    "df['city'] = df['city'].replace('chicagochicago', 'chicago')\n",
    "df['inspection_type'] = df['inspection_type'].str.lower()\n",
    "df = df[pd.notnull(df['inspection_type'])]\n",
    "df['state'] = df['state'].fillna(value='IL')\n",
    "df = df[pd.notnull(df['zip'])]\n",
    "df = df.dropna()"
   ]
  },
  {
   "cell_type": "code",
   "execution_count": 104,
   "metadata": {
    "collapsed": true
   },
   "outputs": [],
   "source": [
    "df.to_csv('clean_restaurant.csv', encoding='utf-8')"
   ]
  },
  {
   "cell_type": "code",
   "execution_count": null,
   "metadata": {
    "collapsed": true
   },
   "outputs": [],
   "source": []
  }
 ],
 "metadata": {
  "kernelspec": {
   "display_name": "Python 3",
   "language": "python",
   "name": "python3"
  },
  "language_info": {
   "codemirror_mode": {
    "name": "ipython",
    "version": 3
   },
   "file_extension": ".py",
   "mimetype": "text/x-python",
   "name": "python",
   "nbconvert_exporter": "python",
   "pygments_lexer": "ipython3",
   "version": "3.6.3"
  }
 },
 "nbformat": 4,
 "nbformat_minor": 2
}
