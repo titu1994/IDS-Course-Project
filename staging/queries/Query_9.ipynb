{
 "cells": [
  {
   "cell_type": "code",
   "execution_count": 1,
   "metadata": {},
   "outputs": [],
   "source": [
    "import csv\n",
    "import pandas as pd   \n",
    "import numpy as np\n",
    "import itertools \n",
    "from bs4 import BeautifulSoup\n",
    "import requests \n",
    "import re\n",
    "\n",
    "business_lic_file = 'Business_Licenses_Liq.csv'\n",
    "\n",
    "d={}\n",
    "B={}\n",
    "with open(business_lic_file) as i_file:\n",
    "         \n",
    "    reader = csv.reader(i_file)\n",
    "    next(reader, None)\n",
    "        for row in reader:\n",
    "        id =row[0].split('-')[0]\n",
    "    \n",
    "        try : \n",
    "            if row[0] != \"\": \n",
    "                l=[]\n",
    "                l.append(row[31])\n",
    "                l.append(row[32])\n",
    "                d[id] = l\n",
    "                \n",
    "        except KeyError:\n",
    "            d[y] = x\n",
    "\n"
   ]
  },
  {
   "cell_type": "code",
   "execution_count": 3,
   "metadata": {},
   "outputs": [
    {
     "data": {
      "text/plain": [
       "1250"
      ]
     },
     "execution_count": 3,
     "metadata": {},
     "output_type": "execute_result"
    }
   ],
   "source": [
    "len(d)"
   ]
  },
  {
   "cell_type": "code",
   "execution_count": 4,
   "metadata": {},
   "outputs": [],
   "source": [
    "\n",
    "\n",
    "for k,v in d.items():\n",
    "    \n",
    "    lt= v[1]\n",
    "    ln= v[0]\n",
    "    l=[]\n",
    "    \n",
    "    url= \"https://geocoding.geo.census.gov/geocoder/geographies/coordinates?x=%s&y=%s&benchmark=4&vintage=4\"%(lt,ln)\n",
    "    page = requests.get(url)   \n",
    "    soup = BeautifulSoup(page.content, 'html.parser')\n",
    "    blk = soup.findAll(text = re.compile('GEOID'))\n",
    "    try: \n",
    "        block = blk[2][12:18]+'_'+blk[2][18:]\n",
    "    except IndexError:\n",
    "        continue\n",
    "\n",
    "        \n",
    "    \n",
    "    if block in B:\n",
    "        l=B[block]\n",
    "        l.append(k) \n",
    "        B[block] = l\n",
    "    else:\n",
    "        l.append(k)    \n",
    "        B[block]= l\n",
    "\n",
    "    \n",
    "\n"
   ]
  },
  {
   "cell_type": "code",
   "execution_count": 5,
   "metadata": {},
   "outputs": [],
   "source": [
    "    data=[]\n",
    "    l=[]\n",
    "    for k, v in B.items():\n",
    "        if k != \"_\":\n",
    "            l.append(k)\n",
    "            l.append(len(v))\n",
    "            data.append(l)\n",
    "            l=[] \n",
    "                   \n",
    "# Finally write output in csv file\n",
    "    data.sort()\n",
    "    data[0]=['Block_code', '#Businesses with liquor licenses', '#Crimes', '#Arrests']\n",
    "    df = pd.DataFrame(data)\n",
    "    df.to_csv('Q9.csv', index=False, header=False)\n",
    "\n",
    "  "
   ]
  },
  {
   "cell_type": "code",
   "execution_count": 12,
   "metadata": {},
   "outputs": [],
   "source": [
    "l=[]\n",
    "l2=[]\n",
    "a_file ='crimes.csv'\n",
    "with open(a_file) as inp_file:\n",
    "    reader = csv.reader(inp_file)\n",
    "    next(reader, None)\n",
    "    \n",
    "    for row in reader:\n",
    "        if row[14] and row[15] != '':\n",
    "            l.append(row[14][:6])\n",
    "            l.append(row[15][:7])\n",
    "            l.append(row[7])\n",
    "            l2.append(l)\n",
    "            l=[]\n",
    "            \n",
    "\n"
   ]
  },
  {
   "cell_type": "code",
   "execution_count": 13,
   "metadata": {},
   "outputs": [],
   "source": [
    "Z={}\n",
    "for k,v in d.items():\n",
    "    for i in l2:\n",
    "        \n",
    "        if i[0] == v[0][:6] and i[1]==v[1][:7]:\n",
    "        \n",
    "            if k in Z :\n",
    "                cnt =Z[k]+ 1  \n",
    "                Z[k]= cnt \n",
    "            else:\n",
    "                cnt= 1\n",
    "                Z[k]= cnt"
   ]
  },
  {
   "cell_type": "code",
   "execution_count": 28,
   "metadata": {},
   "outputs": [
    {
     "data": {
      "text/plain": [
       "True"
      ]
     },
     "execution_count": 28,
     "metadata": {},
     "output_type": "execute_result"
    }
   ],
   "source": []
  },
  {
   "cell_type": "code",
   "execution_count": 53,
   "metadata": {},
   "outputs": [],
   "source": [
    "\n",
    "F={}\n",
    "\n",
    "for k,v in Z.items():\n",
    "    \n",
    "    for key,val in B.items():\n",
    "        if b_any(k in x for x in val):\n",
    "            \n",
    "            \n",
    "            if key in F:\n",
    "                F[key]= F[key]+Z[k] \n",
    "            else:\n",
    "                F[key]=Z[k]\n",
    "    \n",
    "                \n",
    "    \n",
    "            "
   ]
  },
  {
   "cell_type": "code",
   "execution_count": 54,
   "metadata": {},
   "outputs": [
    {
     "name": "stdout",
     "output_type": "stream",
     "text": [
      "839100_2001 6\n",
      "283100_1000 7\n",
      "330100_4012 6\n",
      "320600_2001 7\n",
      "320100_2034 10\n",
      "320100_2012 9\n",
      "320100_2032 92\n",
      "833000_1034 2\n",
      "320100_2014 12\n",
      "320100_2005 23\n",
      "320100_2024 70\n",
      "320100_2027 7\n",
      "839100_1033 8\n",
      "839100_1020 2\n",
      "320100_2021 21\n",
      "839000_4001 2\n",
      "839000_4002 5\n",
      "320400_1020 13\n",
      "833000_1060 32\n",
      "839000_3002 7\n",
      "_ 12\n",
      "839100_1091 13\n",
      "320400_1040 6\n",
      "330100_3009 4\n",
      "839100_2013 7\n",
      "839100_2021 14\n",
      "330100_1007 6\n",
      "330100_1003 8\n",
      "320600_1008 3\n",
      "833000_1047 1\n",
      "320400_1034 4\n",
      "839100_1057 5\n",
      "841900_2045 3\n",
      "839100_2046 12\n",
      "839000_1001 6\n",
      "839100_1067 6\n",
      "839100_2006 20\n",
      "833000_1056 2\n",
      "283200_1007 5\n",
      "320100_1020 36\n",
      "320100_2022 49\n",
      "320600_2013 43\n",
      "839100_1035 6\n",
      "841900_2074 21\n",
      "839100_1102 20\n",
      "833000_1030 4\n",
      "839100_1096 16\n",
      "839100_1068 4\n",
      "320400_1014 26\n",
      "320400_1025 2\n",
      "839100_1042 10\n",
      "839100_2012 26\n",
      "839100_1093 6\n",
      "320600_2007 2\n",
      "320600_2003 2\n",
      "833000_1029 2\n",
      "839100_2003 2\n",
      "833000_2035 2\n",
      "320400_1013 12\n",
      "839100_2016 2\n",
      "839100_1036 2\n",
      "832900_1009 2\n",
      "320400_1009 2\n",
      "839100_2014 2\n",
      "839100_1038 16\n",
      "833000_1026 6\n",
      "833000_2030 18\n",
      "833000_1048 11\n",
      "320100_2028 3\n",
      "283200_1006 2\n",
      "320100_3010 10\n",
      "839100_1075 27\n",
      "833000_1038 2\n",
      "841900_2019 2\n",
      "320400_1011 54\n",
      "839100_2024 2\n",
      "833300_1024 2\n",
      "839100_1081 4\n",
      "833100_1012 2\n",
      "833000_1053 6\n",
      "833000_2059 2\n",
      "838100_1007 2\n",
      "839100_2004 2\n",
      "833000_2056 2\n",
      "839100_1061 2\n",
      "833300_1029 2\n",
      "839100_1050 8\n",
      "839100_1085 2\n",
      "320400_1033 3\n",
      "320100_2029 15\n",
      "839100_1099 1\n",
      "839100_1095 18\n",
      "839100_1074 4\n",
      "839100_1016 8\n",
      "839100_1066 152\n",
      "833100_2015 6\n",
      "320100_2016 3\n",
      "320100_2015 3\n",
      "320100_2023 72\n",
      "841900_2027 2\n",
      "320100_1017 16\n",
      "320400_1036 5\n",
      "833000_1033 1\n",
      "320100_1018 4\n",
      "839100_1071 5\n",
      "839100_2048 1\n",
      "839100_1012 3\n",
      "833000_1063 1\n",
      "320600_1010 10\n",
      "320100_3008 40\n",
      "839000_2000 2\n",
      "839100_2008 12\n",
      "839100_1034 2\n",
      "330100_1009 1\n",
      "841900_2024 9\n",
      "839100_1077 3\n",
      "839100_1025 10\n",
      "320600_2014 2\n",
      "841900_2041 5\n",
      "330100_1008 7\n",
      "833000_1059 24\n",
      "320100_1016 200\n",
      "839100_1104 6\n",
      "839100_2028 30\n",
      "320400_1008 8\n",
      "841900_2040 3\n",
      "320100_2030 4\n",
      "280100_2026 4\n",
      "839100_1049 1\n",
      "320400_1010 8\n",
      "839000_1000 2\n",
      "839100_1076 10\n",
      "320400_1005 16\n",
      "839100_1106 6\n",
      "839100_1088 8\n",
      "839100_1055 3\n",
      "833000_1021 2\n",
      "841900_2092 4\n",
      "330100_1004 8\n",
      "320400_1035 9\n",
      "320400_1043 4\n",
      "320100_1012 9\n",
      "833100_1007 7\n",
      "833000_2038 2\n",
      "320600_2010 4\n",
      "833300_1035 2\n",
      "283100_1001 2\n",
      "320100_2013 35\n",
      "281900_1002 2\n",
      "839100_1024 4\n",
      "839000_2004 2\n",
      "839100_1054 1\n",
      "330100_1001 12\n",
      "839100_1017 8\n",
      "320100_1010 8\n",
      "283100_2006 5\n",
      "281900_1023 6\n",
      "281900_1001 5\n",
      "833000_1061 2\n",
      "839000_4003 1\n",
      "320100_2025 5\n",
      "320100_1015 4\n",
      "281900_1005 4\n",
      "833000_1018 4\n",
      "320100_2010 4\n",
      "839100_1056 8\n",
      "330100_4011 1\n",
      "833000_1023 2\n",
      "839100_1107 2\n",
      "839100_2045 1\n",
      "839100_1043 1\n",
      "841900_1054 1\n",
      "833000_1031 1\n",
      "839100_1048 1\n",
      "839100_1087 1\n"
     ]
    }
   ],
   "source": [
    "for k,v in F.items():\n",
    "    print(k,v)"
   ]
  },
  {
   "cell_type": "code",
   "execution_count": 60,
   "metadata": {},
   "outputs": [],
   "source": [
    "\n",
    "    "
   ]
  },
  {
   "cell_type": "code",
   "execution_count": 62,
   "metadata": {},
   "outputs": [],
   "source": []
  },
  {
   "cell_type": "code",
   "execution_count": 110,
   "metadata": {},
   "outputs": [],
   "source": [
    "last=[]\n",
    "sec=[]\n",
    "fin={}\n",
    "\n",
    "with open('Q9.csv') as f_file:\n",
    "    reader = csv.reader(f_file)\n",
    "    next(reader, None)\n",
    "    for row in reader:\n",
    "        last.append(row[0])\n",
    "        sec.append(row[1])\n",
    "crime=[]\n",
    "data=[]\n",
    "\n",
    "for x,y in zip(last,sec):\n",
    "    for k,v in F.items():\n",
    "        if x == k:\n",
    "            crime.append(x)\n",
    "            crime.append(y)\n",
    "            crime.append(v)\n",
    "            data.append(crime)\n",
    "            crime=[]\n",
    "    \n",
    "            \n",
    "data[0]=['Block_code', '#Businesses with liquor licenses', '#Crimes', '#Arrests']            \n",
    "df = pd.DataFrame(data)\n",
    "df.to_csv('Q9_final.csv', index=False, header=False)\n",
    "      \n",
    "\n",
    "            \n",
    "    "
   ]
  },
  {
   "cell_type": "code",
   "execution_count": 67,
   "metadata": {},
   "outputs": [],
   "source": []
  },
  {
   "cell_type": "code",
   "execution_count": 97,
   "metadata": {},
   "outputs": [
    {
     "data": {
      "text/plain": [
       "297"
      ]
     },
     "execution_count": 97,
     "metadata": {},
     "output_type": "execute_result"
    }
   ],
   "source": []
  },
  {
   "cell_type": "code",
   "execution_count": 100,
   "metadata": {},
   "outputs": [
    {
     "data": {
      "text/plain": [
       "0"
      ]
     },
     "execution_count": 100,
     "metadata": {},
     "output_type": "execute_result"
    }
   ],
   "source": []
  },
  {
   "cell_type": "code",
   "execution_count": null,
   "metadata": {},
   "outputs": [],
   "source": []
  },
  {
   "cell_type": "code",
   "execution_count": null,
   "metadata": {},
   "outputs": [],
   "source": []
  },
  {
   "cell_type": "code",
   "execution_count": null,
   "metadata": {},
   "outputs": [],
   "source": []
  },
  {
   "cell_type": "code",
   "execution_count": null,
   "metadata": {},
   "outputs": [],
   "source": [
    "\n"
   ]
  },
  {
   "cell_type": "code",
   "execution_count": null,
   "metadata": {},
   "outputs": [],
   "source": []
  },
  {
   "cell_type": "code",
   "execution_count": null,
   "metadata": {},
   "outputs": [],
   "source": [
    "\n"
   ]
  },
  {
   "cell_type": "code",
   "execution_count": null,
   "metadata": {},
   "outputs": [],
   "source": []
  },
  {
   "cell_type": "code",
   "execution_count": null,
   "metadata": {},
   "outputs": [],
   "source": []
  }
 ],
 "metadata": {
  "kernelspec": {
   "display_name": "Python 3",
   "language": "python",
   "name": "python3"
  },
  "language_info": {
   "codemirror_mode": {
    "name": "ipython",
    "version": 3
   },
   "file_extension": ".py",
   "mimetype": "text/x-python",
   "name": "python",
   "nbconvert_exporter": "python",
   "pygments_lexer": "ipython3",
   "version": "3.6.4"
  }
 },
 "nbformat": 4,
 "nbformat_minor": 2
}
